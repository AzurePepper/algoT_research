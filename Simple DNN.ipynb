{
 "cells": [
  {
   "cell_type": "markdown",
   "metadata": {},
   "source": [
    "## Intro\n",
    "\n",
    "In this post, I want to share my take on Deep Neural Networks (DNN) and how we can practically use Machine Learning, the big sibling of AI, in the finance world. It's interesting to note that even with all the data floating around in the trading industry, Machine Learning isn't as widespread as you'd think.\n",
    "\n",
    "So, I've decided to dive into the world of implementing Machine Learning, specifically deep learning, covering everything from the basics to the latest algorithms in the market. I'll talk about simple DNNs, explore Recurrent Neural Networks (RNNs) for time-series data, and touch on Reinforcement Learning (RL).\n",
    "\n",
    "Beyond the tech stuff, my goal with this series is to highlight that coding for data analytics is a bit like hitting the gym – it's all about consistent practice. So, I'll not only tackle how to use advanced ML/AI algorithms in the trading business but also level up your coding game."
   ]
  },
  {
   "cell_type": "markdown",
   "metadata": {},
   "source": [
    "## Load & Preprocess data"
   ]
  },
  {
   "cell_type": "code",
   "execution_count": 66,
   "metadata": {},
   "outputs": [],
   "source": [
    "import pandas as pd\n",
    "import numpy as np\n",
    "import matplotlib.pyplot as plt"
   ]
  },
  {
   "cell_type": "code",
   "execution_count": 30,
   "metadata": {},
   "outputs": [
    {
     "name": "stdout",
     "output_type": "stream",
     "text": [
      "[*********************100%%**********************]  1 of 1 completed\n",
      "[*********************100%%**********************]  1 of 1 completed\n"
     ]
    },
    {
     "data": {
      "text/html": [
       "<div>\n",
       "<style scoped>\n",
       "    .dataframe tbody tr th:only-of-type {\n",
       "        vertical-align: middle;\n",
       "    }\n",
       "\n",
       "    .dataframe tbody tr th {\n",
       "        vertical-align: top;\n",
       "    }\n",
       "\n",
       "    .dataframe thead th {\n",
       "        text-align: right;\n",
       "    }\n",
       "</style>\n",
       "<table border=\"1\" class=\"dataframe\">\n",
       "  <thead>\n",
       "    <tr style=\"text-align: right;\">\n",
       "      <th></th>\n",
       "      <th>Open</th>\n",
       "      <th>High</th>\n",
       "      <th>Low</th>\n",
       "      <th>Close</th>\n",
       "      <th>Adj Close</th>\n",
       "      <th>Volume</th>\n",
       "    </tr>\n",
       "    <tr>\n",
       "      <th>Date</th>\n",
       "      <th></th>\n",
       "      <th></th>\n",
       "      <th></th>\n",
       "      <th></th>\n",
       "      <th></th>\n",
       "      <th></th>\n",
       "    </tr>\n",
       "  </thead>\n",
       "  <tbody>\n",
       "    <tr>\n",
       "      <th>2020-01-02</th>\n",
       "      <td>74.059998</td>\n",
       "      <td>75.150002</td>\n",
       "      <td>73.797501</td>\n",
       "      <td>75.087502</td>\n",
       "      <td>73.059418</td>\n",
       "      <td>135480400</td>\n",
       "    </tr>\n",
       "    <tr>\n",
       "      <th>2020-01-03</th>\n",
       "      <td>74.287498</td>\n",
       "      <td>75.144997</td>\n",
       "      <td>74.125000</td>\n",
       "      <td>74.357498</td>\n",
       "      <td>72.349152</td>\n",
       "      <td>146322800</td>\n",
       "    </tr>\n",
       "    <tr>\n",
       "      <th>2020-01-06</th>\n",
       "      <td>73.447502</td>\n",
       "      <td>74.989998</td>\n",
       "      <td>73.187500</td>\n",
       "      <td>74.949997</td>\n",
       "      <td>72.925629</td>\n",
       "      <td>118387200</td>\n",
       "    </tr>\n",
       "    <tr>\n",
       "      <th>2020-01-07</th>\n",
       "      <td>74.959999</td>\n",
       "      <td>75.224998</td>\n",
       "      <td>74.370003</td>\n",
       "      <td>74.597504</td>\n",
       "      <td>72.582649</td>\n",
       "      <td>108872000</td>\n",
       "    </tr>\n",
       "    <tr>\n",
       "      <th>2020-01-08</th>\n",
       "      <td>74.290001</td>\n",
       "      <td>76.110001</td>\n",
       "      <td>74.290001</td>\n",
       "      <td>75.797501</td>\n",
       "      <td>73.750252</td>\n",
       "      <td>132079200</td>\n",
       "    </tr>\n",
       "  </tbody>\n",
       "</table>\n",
       "</div>"
      ],
      "text/plain": [
       "                 Open       High        Low      Close  Adj Close     Volume\n",
       "Date                                                                        \n",
       "2020-01-02  74.059998  75.150002  73.797501  75.087502  73.059418  135480400\n",
       "2020-01-03  74.287498  75.144997  74.125000  74.357498  72.349152  146322800\n",
       "2020-01-06  73.447502  74.989998  73.187500  74.949997  72.925629  118387200\n",
       "2020-01-07  74.959999  75.224998  74.370003  74.597504  72.582649  108872000\n",
       "2020-01-08  74.290001  76.110001  74.290001  75.797501  73.750252  132079200"
      ]
     },
     "execution_count": 30,
     "metadata": {},
     "output_type": "execute_result"
    }
   ],
   "source": [
    "# load data\n",
    "\n",
    "# option1: yfinance\n",
    "import yfinance as yf\n",
    "\n",
    "train = yf.download(\"AAPL\", start=\"2020-01-01\", end=\"2022-06-30\")\n",
    "test = yf.download(\"AAPL\", start=\"2022-07-01\", end=\"2023-12-31\")\n",
    "train.head()\n",
    "\n",
    "# TODO: A functionto load data not just stock market but other asset data\n",
    "# def stock_price_downloader(sym:str, start_date:str, end_data:str) -> pd.DataFrame:\n",
    "#     pass"
   ]
  },
  {
   "cell_type": "code",
   "execution_count": 31,
   "metadata": {},
   "outputs": [],
   "source": [
    "#remove lookahead fautl by dropping and replace 'Close' by Adj Close\n",
    "for data in (train, test):\n",
    "    data.drop(columns=['Close'], inplace= True)\n",
    "    data.rename(columns={'Adj Close':'Close'}, inplace=True)"
   ]
  },
  {
   "cell_type": "markdown",
   "metadata": {},
   "source": [
    "Feature engineering stands out as a crucial aspect in the realm of ML/AI. It's often been seen as an art to figure out the right features to toss into the model. However, the advent of Neural Networks has made this task a breeze, as deep learning takes on the heavy lifting of feature selection and engineering.\n",
    "\n",
    "As we journey deep into multiple hidden layers with DNN-based models, the magic unfolds. These models elegantly spread out initial features and allocate the right coefficients during the learning steps, mainly through backpropagation. With these robust models in play, all I, as the model designer, need to do is prep any potential indicator that could amp up the predictive powers of the model.\n",
    "\n",
    "Now, about preparing those indicators—I've got a trusty helper function for that."
   ]
  },
  {
   "cell_type": "code",
   "execution_count": 32,
   "metadata": {},
   "outputs": [],
   "source": [
    "def add_lags(data, lags, window=20):\n",
    "    \"\"\"\n",
    "    Adds lag features to the given DataFrame.\n",
    "\n",
    "    Parameters:\n",
    "    - data (pd.DataFrame): Input data.\n",
    "    - lags (int): Number of lags to add for each feature.\n",
    "    - window (int): Rolling window size for calculating additional features.\n",
    "\n",
    "    Returns:\n",
    "    - df: pd.DataFrame: Modified DataFrame with lag features added.\n",
    "    - list: List of column names for the added lag features.\n",
    "    \"\"\"\n",
    "    # List to store column names for added lag features\n",
    "    cols = []\n",
    "\n",
    "    df = data.copy()\n",
    "    df.dropna(inplace=True)\n",
    "\n",
    "    # Calculate daily log returns\n",
    "    df[\"r\"] = np.log(df[\"Close\"] / df[\"Close\"].shift(1))\n",
    "\n",
    "    # Calculate additional features using rolling windows\n",
    "    df[\"sma\"] = df[\"Close\"].rolling(window).mean()\n",
    "    df[\"min\"] = df[\"Close\"].rolling(window).min()\n",
    "    df[\"max\"] = df[\"Close\"].rolling(window).max()\n",
    "    df[\"mom\"] = df[\"r\"].rolling(window).mean()\n",
    "    df[\"vol\"] = df[\"r\"].rolling(window).std()\n",
    "\n",
    "    df.dropna(inplace=True)\n",
    "\n",
    "    # Create a binary column 'd' based on the sign of daily returns\n",
    "    df[\"d\"] = np.where(df[\"r\"] > 0, 1, 0)\n",
    "\n",
    "    # List of features to consider\n",
    "    features = [\"r\", \"sma\", \"min\", \"max\", \"mom\", \"vol\"]\n",
    "\n",
    "    for f in features:\n",
    "        for lag in range(1, lags + 1):\n",
    "            col = f\"{f}_lag_{lag}\"\n",
    "            df[col] = df[f].shift(lag)\n",
    "            cols.append(col)\n",
    "\n",
    "    df.dropna(inplace=True)\n",
    "\n",
    "    return df, cols"
   ]
  },
  {
   "cell_type": "code",
   "execution_count": 33,
   "metadata": {},
   "outputs": [],
   "source": [
    "train_df, cols = add_lags(train, lags=5)\n",
    "test_df, cols = add_lags(test, lags=5)"
   ]
  },
  {
   "cell_type": "code",
   "execution_count": 34,
   "metadata": {},
   "outputs": [
    {
     "name": "stdout",
     "output_type": "stream",
     "text": [
      "30\n"
     ]
    },
    {
     "data": {
      "text/html": [
       "<div>\n",
       "<style scoped>\n",
       "    .dataframe tbody tr th:only-of-type {\n",
       "        vertical-align: middle;\n",
       "    }\n",
       "\n",
       "    .dataframe tbody tr th {\n",
       "        vertical-align: top;\n",
       "    }\n",
       "\n",
       "    .dataframe thead th {\n",
       "        text-align: right;\n",
       "    }\n",
       "</style>\n",
       "<table border=\"1\" class=\"dataframe\">\n",
       "  <thead>\n",
       "    <tr style=\"text-align: right;\">\n",
       "      <th></th>\n",
       "      <th>r_lag_1</th>\n",
       "      <th>r_lag_2</th>\n",
       "      <th>r_lag_3</th>\n",
       "      <th>r_lag_4</th>\n",
       "      <th>r_lag_5</th>\n",
       "      <th>sma_lag_1</th>\n",
       "      <th>sma_lag_2</th>\n",
       "      <th>sma_lag_3</th>\n",
       "      <th>sma_lag_4</th>\n",
       "      <th>sma_lag_5</th>\n",
       "      <th>...</th>\n",
       "      <th>mom_lag_1</th>\n",
       "      <th>mom_lag_2</th>\n",
       "      <th>mom_lag_3</th>\n",
       "      <th>mom_lag_4</th>\n",
       "      <th>mom_lag_5</th>\n",
       "      <th>vol_lag_1</th>\n",
       "      <th>vol_lag_2</th>\n",
       "      <th>vol_lag_3</th>\n",
       "      <th>vol_lag_4</th>\n",
       "      <th>vol_lag_5</th>\n",
       "    </tr>\n",
       "    <tr>\n",
       "      <th>Date</th>\n",
       "      <th></th>\n",
       "      <th></th>\n",
       "      <th></th>\n",
       "      <th></th>\n",
       "      <th></th>\n",
       "      <th></th>\n",
       "      <th></th>\n",
       "      <th></th>\n",
       "      <th></th>\n",
       "      <th></th>\n",
       "      <th></th>\n",
       "      <th></th>\n",
       "      <th></th>\n",
       "      <th></th>\n",
       "      <th></th>\n",
       "      <th></th>\n",
       "      <th></th>\n",
       "      <th></th>\n",
       "      <th></th>\n",
       "      <th></th>\n",
       "      <th></th>\n",
       "    </tr>\n",
       "  </thead>\n",
       "  <tbody>\n",
       "    <tr>\n",
       "      <th>2020-02-07</th>\n",
       "      <td>0.011629</td>\n",
       "      <td>0.008121</td>\n",
       "      <td>0.032480</td>\n",
       "      <td>-0.002750</td>\n",
       "      <td>-0.045352</td>\n",
       "      <td>76.930101</td>\n",
       "      <td>76.662286</td>\n",
       "      <td>76.381821</td>\n",
       "      <td>76.150127</td>\n",
       "      <td>76.013544</td>\n",
       "      <td>...</td>\n",
       "      <td>0.003506</td>\n",
       "      <td>0.003722</td>\n",
       "      <td>0.003080</td>\n",
       "      <td>0.001853</td>\n",
       "      <td>0.001502</td>\n",
       "      <td>0.018692</td>\n",
       "      <td>0.018816</td>\n",
       "      <td>0.018877</td>\n",
       "      <td>0.017621</td>\n",
       "      <td>0.017786</td>\n",
       "    </tr>\n",
       "    <tr>\n",
       "      <th>2020-02-10</th>\n",
       "      <td>-0.013686</td>\n",
       "      <td>0.011629</td>\n",
       "      <td>0.008121</td>\n",
       "      <td>0.032480</td>\n",
       "      <td>-0.002750</td>\n",
       "      <td>77.065828</td>\n",
       "      <td>76.930101</td>\n",
       "      <td>76.662286</td>\n",
       "      <td>76.381821</td>\n",
       "      <td>76.150127</td>\n",
       "      <td>...</td>\n",
       "      <td>0.001770</td>\n",
       "      <td>0.003506</td>\n",
       "      <td>0.003722</td>\n",
       "      <td>0.003080</td>\n",
       "      <td>0.001853</td>\n",
       "      <td>0.018591</td>\n",
       "      <td>0.018692</td>\n",
       "      <td>0.018816</td>\n",
       "      <td>0.018877</td>\n",
       "      <td>0.017621</td>\n",
       "    </tr>\n",
       "    <tr>\n",
       "      <th>2020-02-11</th>\n",
       "      <td>0.004738</td>\n",
       "      <td>-0.013686</td>\n",
       "      <td>0.011629</td>\n",
       "      <td>0.008121</td>\n",
       "      <td>0.032480</td>\n",
       "      <td>77.211572</td>\n",
       "      <td>77.065828</td>\n",
       "      <td>76.930101</td>\n",
       "      <td>76.662286</td>\n",
       "      <td>76.381821</td>\n",
       "      <td>...</td>\n",
       "      <td>0.001894</td>\n",
       "      <td>0.001770</td>\n",
       "      <td>0.003506</td>\n",
       "      <td>0.003722</td>\n",
       "      <td>0.003080</td>\n",
       "      <td>0.018603</td>\n",
       "      <td>0.018591</td>\n",
       "      <td>0.018692</td>\n",
       "      <td>0.018816</td>\n",
       "      <td>0.018877</td>\n",
       "    </tr>\n",
       "    <tr>\n",
       "      <th>2020-02-12</th>\n",
       "      <td>-0.006052</td>\n",
       "      <td>0.004738</td>\n",
       "      <td>-0.013686</td>\n",
       "      <td>0.011629</td>\n",
       "      <td>0.008121</td>\n",
       "      <td>77.253027</td>\n",
       "      <td>77.211572</td>\n",
       "      <td>77.065828</td>\n",
       "      <td>76.930101</td>\n",
       "      <td>76.662286</td>\n",
       "      <td>...</td>\n",
       "      <td>0.000535</td>\n",
       "      <td>0.001894</td>\n",
       "      <td>0.001770</td>\n",
       "      <td>0.003506</td>\n",
       "      <td>0.003722</td>\n",
       "      <td>0.018110</td>\n",
       "      <td>0.018603</td>\n",
       "      <td>0.018591</td>\n",
       "      <td>0.018692</td>\n",
       "      <td>0.018816</td>\n",
       "    </tr>\n",
       "    <tr>\n",
       "      <th>2020-02-13</th>\n",
       "      <td>0.023470</td>\n",
       "      <td>-0.006052</td>\n",
       "      <td>0.004738</td>\n",
       "      <td>-0.013686</td>\n",
       "      <td>0.011629</td>\n",
       "      <td>77.439070</td>\n",
       "      <td>77.253027</td>\n",
       "      <td>77.211572</td>\n",
       "      <td>77.065828</td>\n",
       "      <td>76.930101</td>\n",
       "      <td>...</td>\n",
       "      <td>0.002388</td>\n",
       "      <td>0.000535</td>\n",
       "      <td>0.001894</td>\n",
       "      <td>0.001770</td>\n",
       "      <td>0.003506</td>\n",
       "      <td>0.018480</td>\n",
       "      <td>0.018110</td>\n",
       "      <td>0.018603</td>\n",
       "      <td>0.018591</td>\n",
       "      <td>0.018692</td>\n",
       "    </tr>\n",
       "  </tbody>\n",
       "</table>\n",
       "<p>5 rows × 30 columns</p>\n",
       "</div>"
      ],
      "text/plain": [
       "             r_lag_1   r_lag_2   r_lag_3   r_lag_4   r_lag_5  sma_lag_1  \\\n",
       "Date                                                                      \n",
       "2020-02-07  0.011629  0.008121  0.032480 -0.002750 -0.045352  76.930101   \n",
       "2020-02-10 -0.013686  0.011629  0.008121  0.032480 -0.002750  77.065828   \n",
       "2020-02-11  0.004738 -0.013686  0.011629  0.008121  0.032480  77.211572   \n",
       "2020-02-12 -0.006052  0.004738 -0.013686  0.011629  0.008121  77.253027   \n",
       "2020-02-13  0.023470 -0.006052  0.004738 -0.013686  0.011629  77.439070   \n",
       "\n",
       "            sma_lag_2  sma_lag_3  sma_lag_4  sma_lag_5  ...  mom_lag_1  \\\n",
       "Date                                                    ...              \n",
       "2020-02-07  76.662286  76.381821  76.150127  76.013544  ...   0.003506   \n",
       "2020-02-10  76.930101  76.662286  76.381821  76.150127  ...   0.001770   \n",
       "2020-02-11  77.065828  76.930101  76.662286  76.381821  ...   0.001894   \n",
       "2020-02-12  77.211572  77.065828  76.930101  76.662286  ...   0.000535   \n",
       "2020-02-13  77.253027  77.211572  77.065828  76.930101  ...   0.002388   \n",
       "\n",
       "            mom_lag_2  mom_lag_3  mom_lag_4  mom_lag_5  vol_lag_1  vol_lag_2  \\\n",
       "Date                                                                           \n",
       "2020-02-07   0.003722   0.003080   0.001853   0.001502   0.018692   0.018816   \n",
       "2020-02-10   0.003506   0.003722   0.003080   0.001853   0.018591   0.018692   \n",
       "2020-02-11   0.001770   0.003506   0.003722   0.003080   0.018603   0.018591   \n",
       "2020-02-12   0.001894   0.001770   0.003506   0.003722   0.018110   0.018603   \n",
       "2020-02-13   0.000535   0.001894   0.001770   0.003506   0.018480   0.018110   \n",
       "\n",
       "            vol_lag_3  vol_lag_4  vol_lag_5  \n",
       "Date                                         \n",
       "2020-02-07   0.018877   0.017621   0.017786  \n",
       "2020-02-10   0.018816   0.018877   0.017621  \n",
       "2020-02-11   0.018692   0.018816   0.018877  \n",
       "2020-02-12   0.018591   0.018692   0.018816  \n",
       "2020-02-13   0.018603   0.018591   0.018692  \n",
       "\n",
       "[5 rows x 30 columns]"
      ]
     },
     "execution_count": 34,
     "metadata": {},
     "output_type": "execute_result"
    }
   ],
   "source": [
    "print(len(cols))\n",
    "train_df[cols].head()"
   ]
  },
  {
   "cell_type": "markdown",
   "metadata": {},
   "source": [
    "## TensorFlow Model Building\n",
    "\n",
    "In this series, I'll leverage the power of TensorFlow to construct versatile NN models. TensorFlow provides a wealth of tools and flexibilities straight out of the box. To streamline experimentation with different deep learning architectures, I've designed a helper function. The parameters passed into these functions are primarily hyperparameters, allowing the model designer to fine-tune and observe the impact on performance.\n"
   ]
  },
  {
   "cell_type": "code",
   "execution_count": 35,
   "metadata": {},
   "outputs": [],
   "source": [
    "import tensorflow as tf\n",
    "from tensorflow.keras.layers import Dense, Dropout\n",
    "from tensorflow.keras.models import Sequential\n",
    "from tensorflow.keras.regularizers import l2, l1"
   ]
  },
  {
   "cell_type": "code",
   "execution_count": 36,
   "metadata": {},
   "outputs": [],
   "source": [
    "optimizer = tf.keras.optimizers.legacy.Adam(learning_rate=1e-4)"
   ]
  },
  {
   "cell_type": "code",
   "execution_count": 37,
   "metadata": {},
   "outputs": [],
   "source": [
    "def create_dnn_model(\n",
    "    hidden_layers=2,\n",
    "    hidden_units=128,\n",
    "    dropout=False,\n",
    "    rate=0.3,\n",
    "    regularize=False,\n",
    "    reg=l2(0.0005),\n",
    "    optimizer=optimizer,\n",
    "    input_dim=len(cols),\n",
    "):\n",
    "    if not regularize:\n",
    "        reg = None\n",
    "    model = Sequential()\n",
    "    model.add(\n",
    "        Dense(\n",
    "            hidden_units,\n",
    "            input_dim=input_dim,\n",
    "            activity_regularizer=reg,\n",
    "            activation=\"relu\",\n",
    "        )\n",
    "    )\n",
    "    if dropout:\n",
    "        model.add(Dropout(rate, seed=100))\n",
    "    for _ in range(hidden_layers):\n",
    "        model.add(Dense(hidden_units, activation=\"relu\", activity_regularizer=reg))\n",
    "        if dropout:\n",
    "            model.add(Dropout(rate, seed=100))\n",
    "    model.add(Dense(1, activation=\"sigmoid\"))\n",
    "    model.compile(loss=\"binary_crossentropy\", optimizer=optimizer, metrics=[\"accuracy\"])\n",
    "    # Model will return loss and accuracy\n",
    "    return model"
   ]
  },
  {
   "cell_type": "code",
   "execution_count": 38,
   "metadata": {},
   "outputs": [
    {
     "data": {
      "text/plain": [
       "array([289, 314])"
      ]
     },
     "execution_count": 38,
     "metadata": {},
     "output_type": "execute_result"
    }
   ],
   "source": [
    "# Check for the total numbers of up and down\n",
    "np.bincount(train_df[\"d\"])"
   ]
  },
  {
   "cell_type": "code",
   "execution_count": 39,
   "metadata": {},
   "outputs": [],
   "source": [
    "model = create_dnn_model(hidden_layers=3, hidden_units=128)"
   ]
  },
  {
   "cell_type": "markdown",
   "metadata": {},
   "source": [
    "Before feeding the data into the model, it's essential to standardize it. This process helps eliminate any potential bias arising from differing magnitudes between features. In this context, I'll use an underscore (_) suffix to denote the standardized data.\n",
    "\n",
    "Standardization ensures that all features contribute uniformly to the model's training process, preventing larger magnitude features from dominating the learning process. This practice is particularly crucial when working with machine learning or artificial intelligence models, as it promotes fair and unbiased learning across diverse features."
   ]
  },
  {
   "cell_type": "code",
   "execution_count": 40,
   "metadata": {},
   "outputs": [
    {
     "data": {
      "text/html": [
       "<div>\n",
       "<style scoped>\n",
       "    .dataframe tbody tr th:only-of-type {\n",
       "        vertical-align: middle;\n",
       "    }\n",
       "\n",
       "    .dataframe tbody tr th {\n",
       "        vertical-align: top;\n",
       "    }\n",
       "\n",
       "    .dataframe thead th {\n",
       "        text-align: right;\n",
       "    }\n",
       "</style>\n",
       "<table border=\"1\" class=\"dataframe\">\n",
       "  <thead>\n",
       "    <tr style=\"text-align: right;\">\n",
       "      <th></th>\n",
       "      <th>Open</th>\n",
       "      <th>High</th>\n",
       "      <th>Low</th>\n",
       "      <th>Close</th>\n",
       "      <th>Volume</th>\n",
       "      <th>r</th>\n",
       "      <th>sma</th>\n",
       "      <th>min</th>\n",
       "      <th>max</th>\n",
       "      <th>mom</th>\n",
       "      <th>...</th>\n",
       "      <th>mom_lag_1</th>\n",
       "      <th>mom_lag_2</th>\n",
       "      <th>mom_lag_3</th>\n",
       "      <th>mom_lag_4</th>\n",
       "      <th>mom_lag_5</th>\n",
       "      <th>vol_lag_1</th>\n",
       "      <th>vol_lag_2</th>\n",
       "      <th>vol_lag_3</th>\n",
       "      <th>vol_lag_4</th>\n",
       "      <th>vol_lag_5</th>\n",
       "    </tr>\n",
       "    <tr>\n",
       "      <th>Date</th>\n",
       "      <th></th>\n",
       "      <th></th>\n",
       "      <th></th>\n",
       "      <th></th>\n",
       "      <th></th>\n",
       "      <th></th>\n",
       "      <th></th>\n",
       "      <th></th>\n",
       "      <th></th>\n",
       "      <th></th>\n",
       "      <th></th>\n",
       "      <th></th>\n",
       "      <th></th>\n",
       "      <th></th>\n",
       "      <th></th>\n",
       "      <th></th>\n",
       "      <th></th>\n",
       "      <th></th>\n",
       "      <th></th>\n",
       "      <th></th>\n",
       "      <th></th>\n",
       "    </tr>\n",
       "  </thead>\n",
       "  <tbody>\n",
       "    <tr>\n",
       "      <th>2022-08-08</th>\n",
       "      <td>1.235915</td>\n",
       "      <td>1.221744</td>\n",
       "      <td>1.228081</td>\n",
       "      <td>1.209534</td>\n",
       "      <td>-0.962607</td>\n",
       "      <td>-0.161783</td>\n",
       "      <td>0.932930</td>\n",
       "      <td>0.862793</td>\n",
       "      <td>1.002168</td>\n",
       "      <td>1.191209</td>\n",
       "      <td>...</td>\n",
       "      <td>1.061169</td>\n",
       "      <td>1.124491</td>\n",
       "      <td>1.398065</td>\n",
       "      <td>1.097573</td>\n",
       "      <td>1.398075</td>\n",
       "      <td>-0.385457</td>\n",
       "      <td>-0.392414</td>\n",
       "      <td>-0.361734</td>\n",
       "      <td>-0.500077</td>\n",
       "      <td>-0.517576</td>\n",
       "    </tr>\n",
       "    <tr>\n",
       "      <th>2022-08-09</th>\n",
       "      <td>1.159728</td>\n",
       "      <td>1.157661</td>\n",
       "      <td>1.197001</td>\n",
       "      <td>1.211146</td>\n",
       "      <td>-0.914534</td>\n",
       "      <td>-0.026112</td>\n",
       "      <td>0.963739</td>\n",
       "      <td>0.862793</td>\n",
       "      <td>1.002168</td>\n",
       "      <td>1.121512</td>\n",
       "      <td>...</td>\n",
       "      <td>1.189334</td>\n",
       "      <td>1.059145</td>\n",
       "      <td>1.123077</td>\n",
       "      <td>1.397531</td>\n",
       "      <td>1.096892</td>\n",
       "      <td>-0.438720</td>\n",
       "      <td>-0.384572</td>\n",
       "      <td>-0.391395</td>\n",
       "      <td>-0.360425</td>\n",
       "      <td>-0.498885</td>\n",
       "    </tr>\n",
       "    <tr>\n",
       "      <th>2022-08-10</th>\n",
       "      <td>1.278385</td>\n",
       "      <td>1.271015</td>\n",
       "      <td>1.316415</td>\n",
       "      <td>1.350423</td>\n",
       "      <td>-0.796227</td>\n",
       "      <td>1.053774</td>\n",
       "      <td>1.002050</td>\n",
       "      <td>0.914627</td>\n",
       "      <td>1.105960</td>\n",
       "      <td>1.425661</td>\n",
       "      <td>...</td>\n",
       "      <td>1.119605</td>\n",
       "      <td>1.187409</td>\n",
       "      <td>1.057734</td>\n",
       "      <td>1.122546</td>\n",
       "      <td>1.396882</td>\n",
       "      <td>-0.433242</td>\n",
       "      <td>-0.437837</td>\n",
       "      <td>-0.383552</td>\n",
       "      <td>-0.390089</td>\n",
       "      <td>-0.359225</td>\n",
       "    </tr>\n",
       "    <tr>\n",
       "      <th>2022-08-11</th>\n",
       "      <td>1.355544</td>\n",
       "      <td>1.324150</td>\n",
       "      <td>1.358619</td>\n",
       "      <td>1.326244</td>\n",
       "      <td>-1.015206</td>\n",
       "      <td>-0.226609</td>\n",
       "      <td>1.034401</td>\n",
       "      <td>0.914627</td>\n",
       "      <td>1.105960</td>\n",
       "      <td>1.160929</td>\n",
       "      <td>...</td>\n",
       "      <td>1.423895</td>\n",
       "      <td>1.117626</td>\n",
       "      <td>1.185991</td>\n",
       "      <td>1.057204</td>\n",
       "      <td>1.121868</td>\n",
       "      <td>-0.393586</td>\n",
       "      <td>-0.432359</td>\n",
       "      <td>-0.436823</td>\n",
       "      <td>-0.382245</td>\n",
       "      <td>-0.388890</td>\n",
       "    </tr>\n",
       "    <tr>\n",
       "      <th>2022-08-12</th>\n",
       "      <td>1.347764</td>\n",
       "      <td>1.362149</td>\n",
       "      <td>1.398206</td>\n",
       "      <td>1.442631</td>\n",
       "      <td>-0.832065</td>\n",
       "      <td>0.856929</td>\n",
       "      <td>1.069810</td>\n",
       "      <td>0.914627</td>\n",
       "      <td>1.194824</td>\n",
       "      <td>1.266046</td>\n",
       "      <td>...</td>\n",
       "      <td>1.159040</td>\n",
       "      <td>1.422150</td>\n",
       "      <td>1.116212</td>\n",
       "      <td>1.185460</td>\n",
       "      <td>1.056519</td>\n",
       "      <td>-0.400111</td>\n",
       "      <td>-0.392701</td>\n",
       "      <td>-0.431344</td>\n",
       "      <td>-0.435521</td>\n",
       "      <td>-0.381046</td>\n",
       "    </tr>\n",
       "  </tbody>\n",
       "</table>\n",
       "<p>5 rows × 42 columns</p>\n",
       "</div>"
      ],
      "text/plain": [
       "                Open      High       Low     Close    Volume         r  \\\n",
       "Date                                                                     \n",
       "2022-08-08  1.235915  1.221744  1.228081  1.209534 -0.962607 -0.161783   \n",
       "2022-08-09  1.159728  1.157661  1.197001  1.211146 -0.914534 -0.026112   \n",
       "2022-08-10  1.278385  1.271015  1.316415  1.350423 -0.796227  1.053774   \n",
       "2022-08-11  1.355544  1.324150  1.358619  1.326244 -1.015206 -0.226609   \n",
       "2022-08-12  1.347764  1.362149  1.398206  1.442631 -0.832065  0.856929   \n",
       "\n",
       "                 sma       min       max       mom  ...  mom_lag_1  mom_lag_2  \\\n",
       "Date                                                ...                         \n",
       "2022-08-08  0.932930  0.862793  1.002168  1.191209  ...   1.061169   1.124491   \n",
       "2022-08-09  0.963739  0.862793  1.002168  1.121512  ...   1.189334   1.059145   \n",
       "2022-08-10  1.002050  0.914627  1.105960  1.425661  ...   1.119605   1.187409   \n",
       "2022-08-11  1.034401  0.914627  1.105960  1.160929  ...   1.423895   1.117626   \n",
       "2022-08-12  1.069810  0.914627  1.194824  1.266046  ...   1.159040   1.422150   \n",
       "\n",
       "            mom_lag_3  mom_lag_4  mom_lag_5  vol_lag_1  vol_lag_2  vol_lag_3  \\\n",
       "Date                                                                           \n",
       "2022-08-08   1.398065   1.097573   1.398075  -0.385457  -0.392414  -0.361734   \n",
       "2022-08-09   1.123077   1.397531   1.096892  -0.438720  -0.384572  -0.391395   \n",
       "2022-08-10   1.057734   1.122546   1.396882  -0.433242  -0.437837  -0.383552   \n",
       "2022-08-11   1.185991   1.057204   1.121868  -0.393586  -0.432359  -0.436823   \n",
       "2022-08-12   1.116212   1.185460   1.056519  -0.400111  -0.392701  -0.431344   \n",
       "\n",
       "            vol_lag_4  vol_lag_5  \n",
       "Date                              \n",
       "2022-08-08  -0.500077  -0.517576  \n",
       "2022-08-09  -0.360425  -0.498885  \n",
       "2022-08-10  -0.390089  -0.359225  \n",
       "2022-08-11  -0.382245  -0.388890  \n",
       "2022-08-12  -0.435521  -0.381046  \n",
       "\n",
       "[5 rows x 42 columns]"
      ]
     },
     "execution_count": 40,
     "metadata": {},
     "output_type": "execute_result"
    }
   ],
   "source": [
    "mu, std = train_df.mean(), train_df.std()\n",
    "train_df_ = (train_df - mu) / std\n",
    "test_df_ = (test_df - mu) / std\n",
    "\n",
    "test_df_.head()\n"
   ]
  },
  {
   "cell_type": "code",
   "execution_count": 41,
   "metadata": {},
   "outputs": [
    {
     "name": "stdout",
     "output_type": "stream",
     "text": [
      "Epoch 1/32\n",
      "16/16 [==============================] - 0s 5ms/step - loss: 0.7232 - accuracy: 0.4668 - val_loss: 0.6867 - val_accuracy: 0.5124\n",
      "Epoch 2/32\n",
      "16/16 [==============================] - 0s 2ms/step - loss: 0.6963 - accuracy: 0.4938 - val_loss: 0.6889 - val_accuracy: 0.6033\n",
      "Epoch 3/32\n",
      "16/16 [==============================] - 0s 1ms/step - loss: 0.6869 - accuracy: 0.5809 - val_loss: 0.6930 - val_accuracy: 0.5041\n",
      "Epoch 4/32\n",
      "16/16 [==============================] - 0s 1ms/step - loss: 0.6827 - accuracy: 0.5581 - val_loss: 0.6950 - val_accuracy: 0.5124\n",
      "Epoch 5/32\n",
      "16/16 [==============================] - 0s 1ms/step - loss: 0.6797 - accuracy: 0.5643 - val_loss: 0.6956 - val_accuracy: 0.5041\n",
      "Epoch 6/32\n",
      "16/16 [==============================] - 0s 2ms/step - loss: 0.6768 - accuracy: 0.5892 - val_loss: 0.6965 - val_accuracy: 0.4959\n",
      "Epoch 7/32\n",
      "16/16 [==============================] - 0s 2ms/step - loss: 0.6741 - accuracy: 0.5913 - val_loss: 0.6972 - val_accuracy: 0.4959\n",
      "Epoch 8/32\n",
      "16/16 [==============================] - 0s 2ms/step - loss: 0.6714 - accuracy: 0.5934 - val_loss: 0.6990 - val_accuracy: 0.4959\n",
      "Epoch 9/32\n",
      "16/16 [==============================] - 0s 2ms/step - loss: 0.6688 - accuracy: 0.5975 - val_loss: 0.7009 - val_accuracy: 0.5124\n",
      "Epoch 10/32\n",
      "16/16 [==============================] - 0s 2ms/step - loss: 0.6662 - accuracy: 0.6079 - val_loss: 0.7020 - val_accuracy: 0.4959\n",
      "Epoch 11/32\n",
      "16/16 [==============================] - 0s 2ms/step - loss: 0.6635 - accuracy: 0.6058 - val_loss: 0.7040 - val_accuracy: 0.4959\n",
      "Epoch 12/32\n",
      "16/16 [==============================] - 0s 2ms/step - loss: 0.6608 - accuracy: 0.6183 - val_loss: 0.7062 - val_accuracy: 0.4959\n",
      "Epoch 13/32\n",
      "16/16 [==============================] - 0s 2ms/step - loss: 0.6581 - accuracy: 0.6245 - val_loss: 0.7068 - val_accuracy: 0.4959\n",
      "Epoch 14/32\n",
      "16/16 [==============================] - 0s 2ms/step - loss: 0.6554 - accuracy: 0.6286 - val_loss: 0.7079 - val_accuracy: 0.4959\n",
      "Epoch 15/32\n",
      "16/16 [==============================] - 0s 2ms/step - loss: 0.6527 - accuracy: 0.6349 - val_loss: 0.7103 - val_accuracy: 0.5041\n",
      "Epoch 16/32\n",
      "16/16 [==============================] - 0s 2ms/step - loss: 0.6499 - accuracy: 0.6411 - val_loss: 0.7103 - val_accuracy: 0.4959\n",
      "Epoch 17/32\n",
      "16/16 [==============================] - 0s 2ms/step - loss: 0.6470 - accuracy: 0.6452 - val_loss: 0.7156 - val_accuracy: 0.4628\n",
      "Epoch 18/32\n",
      "16/16 [==============================] - 0s 2ms/step - loss: 0.6440 - accuracy: 0.6515 - val_loss: 0.7145 - val_accuracy: 0.4876\n",
      "Epoch 19/32\n",
      "16/16 [==============================] - 0s 2ms/step - loss: 0.6409 - accuracy: 0.6494 - val_loss: 0.7180 - val_accuracy: 0.4876\n",
      "Epoch 20/32\n",
      "16/16 [==============================] - 0s 2ms/step - loss: 0.6379 - accuracy: 0.6535 - val_loss: 0.7198 - val_accuracy: 0.4793\n",
      "Epoch 21/32\n",
      "16/16 [==============================] - 0s 2ms/step - loss: 0.6347 - accuracy: 0.6535 - val_loss: 0.7245 - val_accuracy: 0.4876\n",
      "Epoch 22/32\n",
      "16/16 [==============================] - 0s 2ms/step - loss: 0.6314 - accuracy: 0.6473 - val_loss: 0.7222 - val_accuracy: 0.4793\n",
      "Epoch 23/32\n",
      "16/16 [==============================] - 0s 2ms/step - loss: 0.6279 - accuracy: 0.6473 - val_loss: 0.7296 - val_accuracy: 0.4545\n",
      "Epoch 24/32\n",
      "16/16 [==============================] - 0s 2ms/step - loss: 0.6246 - accuracy: 0.6494 - val_loss: 0.7294 - val_accuracy: 0.4793\n",
      "Epoch 25/32\n",
      "16/16 [==============================] - 0s 2ms/step - loss: 0.6209 - accuracy: 0.6473 - val_loss: 0.7329 - val_accuracy: 0.4545\n",
      "Epoch 26/32\n",
      "16/16 [==============================] - 0s 2ms/step - loss: 0.6176 - accuracy: 0.6494 - val_loss: 0.7373 - val_accuracy: 0.4628\n",
      "Epoch 27/32\n",
      "16/16 [==============================] - 0s 2ms/step - loss: 0.6141 - accuracy: 0.6515 - val_loss: 0.7394 - val_accuracy: 0.4711\n",
      "Epoch 28/32\n",
      "16/16 [==============================] - 0s 2ms/step - loss: 0.6106 - accuracy: 0.6639 - val_loss: 0.7436 - val_accuracy: 0.4711\n",
      "Epoch 29/32\n",
      " 1/16 [>.............................] - ETA: 0s - loss: 0.4918 - accuracy: 0.7500"
     ]
    },
    {
     "name": "stdout",
     "output_type": "stream",
     "text": [
      "16/16 [==============================] - 0s 2ms/step - loss: 0.6071 - accuracy: 0.6639 - val_loss: 0.7462 - val_accuracy: 0.4793\n",
      "Epoch 30/32\n",
      "16/16 [==============================] - 0s 2ms/step - loss: 0.6037 - accuracy: 0.6680 - val_loss: 0.7511 - val_accuracy: 0.4711\n",
      "Epoch 31/32\n",
      "16/16 [==============================] - 0s 3ms/step - loss: 0.6000 - accuracy: 0.6639 - val_loss: 0.7521 - val_accuracy: 0.4876\n",
      "Epoch 32/32\n",
      "16/16 [==============================] - 0s 3ms/step - loss: 0.5966 - accuracy: 0.6763 - val_loss: 0.7613 - val_accuracy: 0.4793\n"
     ]
    },
    {
     "data": {
      "text/plain": [
       "<keras.src.callbacks.History at 0x2eb059950>"
      ]
     },
     "execution_count": 41,
     "metadata": {},
     "output_type": "execute_result"
    }
   ],
   "source": [
    "model.fit(\n",
    "    train_df_[cols],\n",
    "    train_df[\"d\"],\n",
    "    epochs=32,\n",
    "    validation_split=0.2,\n",
    "    shuffle=False,\n",
    "    # verbose=0\n",
    ")"
   ]
  },
  {
   "cell_type": "markdown",
   "metadata": {},
   "source": [
    "### Simple WalkFoward Implementation\n",
    "\n",
    "When dealing with timeseries data especially realtime data training testing in split data putting aside validation dataset for fine-tuning is not a viable option given fast speed of features moving. With this reason I would not focus much on slipting data for validation only setting aside test data(this is the reason why at the end of the day I will be most likely to use refocementlearning for liable trading bot later).\n",
    "Yet, in this research for the educational purpose for myself, I will see how walk-foward techique make difference in the model learning. Here I use TimeSeriesSplit from sklearn package. One catch here is 'TimeSerieceSplit' generate not the same size of training dataset. Instead, traning dataset increase apppending a new set to the previous set. For instance, the first set start from idx 0 to 10 and test from 11 to 5, in the next iteration, training set will have starting idx at 0 and ending idx at 20 and the same size of test (idx from 21 to 25)."
   ]
  },
  {
   "cell_type": "code",
   "execution_count": 73,
   "metadata": {},
   "outputs": [
    {
     "name": "stdout",
     "output_type": "stream",
     "text": [
      "Epoch 1/7\n"
     ]
    },
    {
     "name": "stdout",
     "output_type": "stream",
     "text": [
      "4/4 [==============================] - 0s 22ms/step - loss: 0.7070 - accuracy: 0.5243 - val_loss: 0.6956 - val_accuracy: 0.5200\n",
      "Epoch 2/7\n",
      "4/4 [==============================] - 0s 4ms/step - loss: 0.6642 - accuracy: 0.6214 - val_loss: 0.7028 - val_accuracy: 0.4800\n",
      "Epoch 3/7\n",
      "4/4 [==============================] - 0s 4ms/step - loss: 0.6422 - accuracy: 0.6408 - val_loss: 0.6968 - val_accuracy: 0.5400\n",
      "Epoch 4/7\n",
      "4/4 [==============================] - 0s 4ms/step - loss: 0.6159 - accuracy: 0.6893 - val_loss: 0.6935 - val_accuracy: 0.5100\n",
      "Epoch 5/7\n",
      "4/4 [==============================] - 0s 5ms/step - loss: 0.6111 - accuracy: 0.6408 - val_loss: 0.6962 - val_accuracy: 0.5300\n",
      "Epoch 6/7\n",
      "4/4 [==============================] - 0s 4ms/step - loss: 0.5897 - accuracy: 0.7087 - val_loss: 0.7039 - val_accuracy: 0.5300\n",
      "Epoch 7/7\n",
      "4/4 [==============================] - 0s 4ms/step - loss: 0.5813 - accuracy: 0.7282 - val_loss: 0.7004 - val_accuracy: 0.5000\n",
      "Epoch 1/7\n",
      "7/7 [==============================] - 0s 5ms/step - loss: 0.6351 - accuracy: 0.6207 - val_loss: 0.6979 - val_accuracy: 0.4200\n",
      "Epoch 2/7\n",
      "7/7 [==============================] - 0s 3ms/step - loss: 0.6307 - accuracy: 0.6207 - val_loss: 0.7005 - val_accuracy: 0.4300\n",
      "Epoch 3/7\n",
      "7/7 [==============================] - 0s 5ms/step - loss: 0.6151 - accuracy: 0.6552 - val_loss: 0.7014 - val_accuracy: 0.4600\n",
      "Epoch 4/7\n",
      "7/7 [==============================] - 0s 5ms/step - loss: 0.6047 - accuracy: 0.6749 - val_loss: 0.7010 - val_accuracy: 0.4600\n",
      "Epoch 5/7\n",
      "7/7 [==============================] - 0s 3ms/step - loss: 0.5979 - accuracy: 0.6798 - val_loss: 0.7012 - val_accuracy: 0.4600\n",
      "Epoch 6/7\n",
      "7/7 [==============================] - 0s 3ms/step - loss: 0.5919 - accuracy: 0.6798 - val_loss: 0.7003 - val_accuracy: 0.4600\n",
      "Epoch 7/7\n",
      "7/7 [==============================] - 0s 3ms/step - loss: 0.5814 - accuracy: 0.6847 - val_loss: 0.7014 - val_accuracy: 0.4800\n",
      "Epoch 1/7\n",
      "10/10 [==============================] - 0s 3ms/step - loss: 0.6154 - accuracy: 0.6337 - val_loss: 0.6808 - val_accuracy: 0.5700\n",
      "Epoch 2/7\n",
      "10/10 [==============================] - 0s 2ms/step - loss: 0.6081 - accuracy: 0.6304 - val_loss: 0.6807 - val_accuracy: 0.5400\n",
      "Epoch 3/7\n",
      "10/10 [==============================] - 0s 2ms/step - loss: 0.6038 - accuracy: 0.6535 - val_loss: 0.6785 - val_accuracy: 0.5800\n",
      "Epoch 4/7\n",
      "10/10 [==============================] - 0s 2ms/step - loss: 0.5927 - accuracy: 0.6601 - val_loss: 0.6791 - val_accuracy: 0.5800\n",
      "Epoch 5/7\n",
      "10/10 [==============================] - 0s 2ms/step - loss: 0.5835 - accuracy: 0.6964 - val_loss: 0.6785 - val_accuracy: 0.5800\n",
      "Epoch 6/7\n",
      "10/10 [==============================] - 0s 2ms/step - loss: 0.5751 - accuracy: 0.7096 - val_loss: 0.6806 - val_accuracy: 0.5400\n",
      "Epoch 7/7\n",
      "10/10 [==============================] - 0s 2ms/step - loss: 0.5679 - accuracy: 0.7228 - val_loss: 0.6813 - val_accuracy: 0.5200\n",
      "Epoch 1/7\n",
      "13/13 [==============================] - 0s 3ms/step - loss: 0.5889 - accuracy: 0.6824 - val_loss: 0.7081 - val_accuracy: 0.5300\n",
      "Epoch 2/7\n",
      "13/13 [==============================] - 0s 2ms/step - loss: 0.5795 - accuracy: 0.7146 - val_loss: 0.7170 - val_accuracy: 0.5000\n",
      "Epoch 3/7\n",
      "13/13 [==============================] - 0s 2ms/step - loss: 0.5691 - accuracy: 0.7295 - val_loss: 0.7129 - val_accuracy: 0.5500\n",
      "Epoch 4/7\n",
      "13/13 [==============================] - 0s 2ms/step - loss: 0.5604 - accuracy: 0.7419 - val_loss: 0.7313 - val_accuracy: 0.5500\n",
      "Epoch 5/7\n",
      "13/13 [==============================] - 0s 2ms/step - loss: 0.5518 - accuracy: 0.7469 - val_loss: 0.7319 - val_accuracy: 0.5300\n",
      "Epoch 6/7\n",
      "13/13 [==============================] - 0s 2ms/step - loss: 0.5426 - accuracy: 0.7469 - val_loss: 0.7747 - val_accuracy: 0.5300\n",
      "Epoch 7/7\n",
      "13/13 [==============================] - 0s 2ms/step - loss: 0.5340 - accuracy: 0.7519 - val_loss: 0.7608 - val_accuracy: 0.5500\n",
      "Epoch 1/7\n",
      "16/16 [==============================] - 0s 2ms/step - loss: 0.5685 - accuracy: 0.7078 - val_loss: 0.7004 - val_accuracy: 0.5200\n",
      "Epoch 2/7\n",
      "16/16 [==============================] - 0s 2ms/step - loss: 0.5576 - accuracy: 0.7217 - val_loss: 0.7059 - val_accuracy: 0.5000\n",
      "Epoch 3/7\n",
      "16/16 [==============================] - 0s 2ms/step - loss: 0.5441 - accuracy: 0.7396 - val_loss: 0.7127 - val_accuracy: 0.4900\n",
      "Epoch 4/7\n",
      "16/16 [==============================] - 0s 2ms/step - loss: 0.5370 - accuracy: 0.7256 - val_loss: 0.7148 - val_accuracy: 0.4900\n",
      "Epoch 5/7\n",
      "16/16 [==============================] - 0s 2ms/step - loss: 0.5267 - accuracy: 0.7376 - val_loss: 0.7167 - val_accuracy: 0.5000\n",
      "Epoch 6/7\n",
      "16/16 [==============================] - 0s 4ms/step - loss: 0.5193 - accuracy: 0.7555 - val_loss: 0.7244 - val_accuracy: 0.4800\n",
      "Epoch 7/7\n",
      "16/16 [==============================] - 0s 2ms/step - loss: 0.5075 - accuracy: 0.7833 - val_loss: 0.7265 - val_accuracy: 0.4900\n"
     ]
    }
   ],
   "source": [
    "from sklearn.model_selection import TimeSeriesSplit\n",
    "# reset model\n",
    "model_ = create_dnn_model(hidden_layers=3, hidden_units=128)\n",
    "\n",
    "n_splits = 5\n",
    "tscv = TimeSeriesSplit(n_splits=n_splits)\n",
    "\n",
    "# Iterate over train-test indices\n",
    "for fold, (train_index, test_index) in enumerate(tscv.split(train_df_)):\n",
    "    X_train, X_test = train_df_[cols].iloc[train_index], train_df_[cols].iloc[test_index]\n",
    "    y_train, y_test = train_df['d'].iloc[train_index], train_df['d'].iloc[test_index]\n",
    "\n",
    "    model_.fit(X_train, y_train, epochs=7, validation_data=(X_test, y_test))\n"
   ]
  },
  {
   "cell_type": "code",
   "execution_count": 42,
   "metadata": {},
   "outputs": [
    {
     "name": "stdout",
     "output_type": "stream",
     "text": [
      "19/19 [==============================] - 0s 446us/step - loss: 0.6262 - accuracy: 0.6385\n"
     ]
    },
    {
     "data": {
      "text/plain": [
       "[0.6261711120605469, 0.6384742856025696]"
      ]
     },
     "execution_count": 42,
     "metadata": {},
     "output_type": "execute_result"
    }
   ],
   "source": [
    "model.evaluate(train_df_[cols], train_df[\"d\"])\n",
    "# Output is [loss, accuracy]"
   ]
  },
  {
   "cell_type": "code",
   "execution_count": 43,
   "metadata": {},
   "outputs": [
    {
     "name": "stdout",
     "output_type": "stream",
     "text": [
      "11/11 [==============================] - 0s 498us/step - loss: 0.7300 - accuracy: 0.4915\n"
     ]
    },
    {
     "data": {
      "text/plain": [
       "[0.7300196290016174, 0.49147728085517883]"
      ]
     },
     "execution_count": 43,
     "metadata": {},
     "output_type": "execute_result"
    }
   ],
   "source": [
    "model.evaluate(test_df_[cols], test_df[\"d\"])"
   ]
  },
  {
   "cell_type": "markdown",
   "metadata": {},
   "source": [
    "While the training results boast an impressive predictive power exceeding 70%, it's crucial to approach this seemingly good outcome with a degree of skepticism.\n",
    "\n",
    "Achieving high accuracy in the training set, even with proper measures such as cross-validation, may often lead to overfitting—a formidable adversary that can undermine the credibility of a model. \n",
    "\n",
    "The true test of a model lies in its performance on unseen data, such as the test set. Unfortunately, the model's predictability on the test set may not mirror its success during training.\n",
    "\n",
    "Before implementing any remedies, it's worthwhile to assess the model's performance graphically. To do so, I've implemented vectorized backtesting, assuming the ability to take both long and short positions, to better understand how realistically the model performs"
   ]
  },
  {
   "cell_type": "code",
   "execution_count": 67,
   "metadata": {},
   "outputs": [
    {
     "name": "stdout",
     "output_type": "stream",
     "text": [
      "19/19 [==============================] - 0s 475us/step\n"
     ]
    },
    {
     "data": {
      "image/png": "[encoded data removed]",
      "text/plain": [
       "<Figure size 1000x600 with 1 Axes>"
      ]
     },
     "metadata": {},
     "output_type": "display_data"
    }
   ],
   "source": [
    "train_df[\"p\"] = np.where(model.predict(train_df_[cols]) > 0.5, 1, 0)\n",
    "train_df[\"p\"] = np.where(train_df[\"p\"] == 1, 1, -1)\n",
    "train_df[\"s\"] = train_df[\"p\"] * train_df[\"r\"]\n",
    "train_df[[\"r\", \"s\"]].cumsum().apply(np.exp).plot(figsize=(10, 6))\n",
    "# r -> no strategy applied. Just price movement.\n",
    "# s -> with strategy suggested by the model.\n",
    "plt.show()"
   ]
  },
  {
   "cell_type": "code",
   "execution_count": 68,
   "metadata": {},
   "outputs": [
    {
     "data": {
      "image/png": "[encoded data removed]",
      "text/plain": [
       "<Figure size 1500x600 with 2 Axes>"
      ]
     },
     "metadata": {},
     "output_type": "display_data"
    }
   ],
   "source": [
    "# Just to check stock price movement trajectory\n",
    "fig, ax = plt.subplots(1, 2, figsize=(15, 6))\n",
    "train_df[\"r\"].cumsum().apply(np.exp).plot(ax=ax[0], title=\"Cumulative Returns\")\n",
    "train_df[\"Close\"].plot(ax=ax[1], title=\"Close Prices\")\n",
    "plt.show()\n"
   ]
  },
  {
   "cell_type": "markdown",
   "metadata": {},
   "source": [
    "---\n",
    "### Side research\n",
    "Here, the first step to make it close to real market trading is see whether the model can predict not just binary precition but just short or long when the signal is strong enough. To do that, we need a helper function. Below is a test snippest to implement this."
   ]
  },
  {
   "cell_type": "code",
   "execution_count": 47,
   "metadata": {},
   "outputs": [
    {
     "data": {
      "text/html": [
       "<div>\n",
       "<style scoped>\n",
       "    .dataframe tbody tr th:only-of-type {\n",
       "        vertical-align: middle;\n",
       "    }\n",
       "\n",
       "    .dataframe tbody tr th {\n",
       "        vertical-align: top;\n",
       "    }\n",
       "\n",
       "    .dataframe thead th {\n",
       "        text-align: right;\n",
       "    }\n",
       "</style>\n",
       "<table border=\"1\" class=\"dataframe\">\n",
       "  <thead>\n",
       "    <tr style=\"text-align: right;\">\n",
       "      <th></th>\n",
       "      <th>a</th>\n",
       "    </tr>\n",
       "  </thead>\n",
       "  <tbody>\n",
       "    <tr>\n",
       "      <th>0</th>\n",
       "      <td>1</td>\n",
       "    </tr>\n",
       "    <tr>\n",
       "      <th>1</th>\n",
       "      <td>2</td>\n",
       "    </tr>\n",
       "    <tr>\n",
       "      <th>2</th>\n",
       "      <td>3</td>\n",
       "    </tr>\n",
       "  </tbody>\n",
       "</table>\n",
       "</div>"
      ],
      "text/plain": [
       "   a\n",
       "0  1\n",
       "1  2\n",
       "2  3"
      ]
     },
     "execution_count": 47,
     "metadata": {},
     "output_type": "execute_result"
    }
   ],
   "source": [
    "# Toy data\n",
    "t_df = pd.DataFrame({\"a\": [1,2,3]})\n",
    "t_df"
   ]
  },
  {
   "cell_type": "code",
   "execution_count": 48,
   "metadata": {},
   "outputs": [],
   "source": [
    "def convert_a_c(x):\n",
    "    if x == 1:\n",
    "        return True\n",
    "    elif x == 3:\n",
    "        return False\n",
    "    else:\n",
    "        return x"
   ]
  },
  {
   "cell_type": "code",
   "execution_count": 49,
   "metadata": {},
   "outputs": [],
   "source": [
    "t_df[\"b\"] = t_df[\"a\"].map(convert_a_c)"
   ]
  },
  {
   "cell_type": "code",
   "execution_count": 50,
   "metadata": {},
   "outputs": [
    {
     "data": {
      "text/html": [
       "<div>\n",
       "<style scoped>\n",
       "    .dataframe tbody tr th:only-of-type {\n",
       "        vertical-align: middle;\n",
       "    }\n",
       "\n",
       "    .dataframe tbody tr th {\n",
       "        vertical-align: top;\n",
       "    }\n",
       "\n",
       "    .dataframe thead th {\n",
       "        text-align: right;\n",
       "    }\n",
       "</style>\n",
       "<table border=\"1\" class=\"dataframe\">\n",
       "  <thead>\n",
       "    <tr style=\"text-align: right;\">\n",
       "      <th></th>\n",
       "      <th>a</th>\n",
       "      <th>b</th>\n",
       "    </tr>\n",
       "  </thead>\n",
       "  <tbody>\n",
       "    <tr>\n",
       "      <th>0</th>\n",
       "      <td>1</td>\n",
       "      <td>True</td>\n",
       "    </tr>\n",
       "    <tr>\n",
       "      <th>1</th>\n",
       "      <td>2</td>\n",
       "      <td>2</td>\n",
       "    </tr>\n",
       "    <tr>\n",
       "      <th>2</th>\n",
       "      <td>3</td>\n",
       "      <td>False</td>\n",
       "    </tr>\n",
       "  </tbody>\n",
       "</table>\n",
       "</div>"
      ],
      "text/plain": [
       "   a      b\n",
       "0  1   True\n",
       "1  2      2\n",
       "2  3  False"
      ]
     },
     "execution_count": 50,
     "metadata": {},
     "output_type": "execute_result"
    }
   ],
   "source": [
    "t_df"
   ]
  },
  {
   "cell_type": "markdown",
   "metadata": {},
   "source": [
    "---"
   ]
  },
  {
   "cell_type": "markdown",
   "metadata": {},
   "source": [
    "## Transitioning from Binary to Ternary\n",
    "\n",
    "In this section, I fine-tune my stock market prediction strategy. My func_decision function now provides nuanced signals of -1 (short), 0 (neutral), or 1 (long) based on the model's confidence. I act only on strong indications, with thresholds set at 0.3 for short and 0.7 for long. The plotted signals on the stock price chart visually demonstrate the effectiveness of this refined approach, offering a more precise decision-making process in navigating the complexities of the stock market."
   ]
  },
  {
   "cell_type": "code",
   "execution_count": 55,
   "metadata": {},
   "outputs": [
    {
     "name": "stdout",
     "output_type": "stream",
     "text": [
      "19/19 [==============================] - 0s 439us/step\n"
     ]
    }
   ],
   "source": [
    "# Decision only when indication is strong\n",
    "def func_decision(x):\n",
    "    if x < 0.3:\n",
    "        return -1\n",
    "    elif x > 0.7:\n",
    "        return 1\n",
    "    else:\n",
    "        return 0\n",
    "\n",
    "\n",
    "train_df[\"p\"] = model.predict(train_df_[cols])\n",
    "train_df[\"p_\"] = train_df[\"p\"].map(func_decision)"
   ]
  },
  {
   "cell_type": "code",
   "execution_count": 56,
   "metadata": {},
   "outputs": [
    {
     "data": {
      "text/plain": [
       "p_\n",
       " 0    503\n",
       " 1     63\n",
       "-1     37\n",
       "Name: count, dtype: int64"
      ]
     },
     "execution_count": 56,
     "metadata": {},
     "output_type": "execute_result"
    }
   ],
   "source": [
    "train_df[\"p_\"].value_counts()\n",
    "# df['p'].hist()"
   ]
  },
  {
   "cell_type": "code",
   "execution_count": 69,
   "metadata": {},
   "outputs": [
    {
     "data": {
      "image/png": "[encoded data removed]",
      "text/plain": [
       "<Figure size 1200x600 with 1 Axes>"
      ]
     },
     "metadata": {},
     "output_type": "display_data"
    }
   ],
   "source": [
    "import matplotlib.pyplot as plt\n",
    "\n",
    "plt.figure(figsize=(12, 6))\n",
    "plt.plot(train_df[\"Close\"], label='Close Price')\n",
    "plt.plot(train_df[train_df[\"p_\"] == 1][\"Close\"], \"*\", label='+ Signal')\n",
    "plt.plot(train_df[train_df[\"p_\"] == -1][\"Close\"], \"^\", label='- Signal')\n",
    "\n",
    "# Add labels for the x and y axes\n",
    "plt.xlabel('Date')\n",
    "plt.ylabel('Close Price')\n",
    "plt.legend()\n",
    "\n",
    "plt.show()"
   ]
  },
  {
   "cell_type": "markdown",
   "metadata": {},
   "source": [
    "In the chart featuring signal indicators, the model appears to suggest accurate entry and exit points. However, despite the promising outlook portrayed by the signal-marked chart, the performance on the test data is notably disappointing, with just over 50% predictive power. Several factors contribute to this subpar result, primarily rooted in the idiosyncrasies of price data and opportunities for enhancement in the neural network model.\n",
    "\n",
    "In the upcoming series, I will address these issues systematically, aiming to refine and optimize the model's performance step by step\n"
   ]
  }
 ],
 "metadata": {
  "kernelspec": {
   "display_name": "tf",
   "language": "python",
   "name": "python3"
  },
  "language_info": {
   "codemirror_mode": {
    "name": "ipython",
    "version": 3
   },
   "file_extension": ".py",
   "mimetype": "text/x-python",
   "name": "python",
   "nbconvert_exporter": "python",
   "pygments_lexer": "ipython3",
   "version": "3.11.7"
  }
 },
 "nbformat": 4,
 "nbformat_minor": 2
}
